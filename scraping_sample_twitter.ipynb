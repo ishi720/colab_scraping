{
  "nbformat": 4,
  "nbformat_minor": 0,
  "metadata": {
    "colab": {
      "name": "scraping_sample_twitter",
      "provenance": [],
      "collapsed_sections": [],
      "include_colab_link": true
    },
    "kernelspec": {
      "name": "python3",
      "display_name": "Python 3"
    },
    "accelerator": "GPU"
  },
  "cells": [
    {
      "cell_type": "markdown",
      "metadata": {
        "id": "view-in-github",
        "colab_type": "text"
      },
      "source": [
        "<a href=\"https://colab.research.google.com/github/ishi720/colab_scraping/blob/master/scraping_sample_twitter.ipynb\" target=\"_parent\"><img src=\"https://colab.research.google.com/assets/colab-badge.svg\" alt=\"Open In Colab\"/></a>"
      ]
    },
    {
      "cell_type": "markdown",
      "metadata": {
        "id": "jKkXqdcCa2qo",
        "colab_type": "text"
      },
      "source": [
        "Twitterの検索結果から画像を保存します\n",
        "\n",
        "GoogleDriveの\"scraping_image\"を作成して処理します。\n",
        "\n",
        "すでに\"scraping_image\"がある場合は、中身が一度削除されてしまうのでご注意ください。\n",
        "\n",
        "\n"
      ]
    },
    {
      "cell_type": "code",
      "metadata": {
        "id": "pEEeuwTIIAX5",
        "colab_type": "code",
        "colab": {}
      },
      "source": [
        "# 環境整備\n",
        "!apt-get update\n",
        "!apt install chromium-chromedriver\n",
        "!cp /usr/lib/chromium-browser/chromedriver /usr/bin\n",
        "!pip install selenium"
      ],
      "execution_count": 0,
      "outputs": []
    },
    {
      "cell_type": "code",
      "metadata": {
        "id": "i5Biih5j2ifn",
        "colab_type": "code",
        "colab": {}
      },
      "source": [
        "# ドライブをマウント\n",
        "from google.colab import drive\n",
        "drive.mount('/content/drive')"
      ],
      "execution_count": 0,
      "outputs": []
    },
    {
      "cell_type": "code",
      "metadata": {
        "id": "cHRwpP_VqmZv",
        "colab_type": "code",
        "colab": {}
      },
      "source": [
        "# 保存フォルダを作る\n",
        "!cd drive/'My Drive'/ && mkdir scraping_image\n",
        "\n",
        "# フォルダの画像を空にする\n",
        "!cd drive/'My Drive'/scraping_image/ && rm ./* && ls -la"
      ],
      "execution_count": 0,
      "outputs": []
    },
    {
      "cell_type": "code",
      "metadata": {
        "id": "Mn5JDnA4JY4Q",
        "colab_type": "code",
        "outputId": "9530cecf-fa40-4b1e-8e5a-d8763e213ca8",
        "colab": {
          "base_uri": "https://localhost:8080/",
          "height": 34
        }
      },
      "source": [
        "# クロールするURLを作成する\n",
        "import urllib.parse\n",
        "keyword = \"焼肉　肉\"\n",
        "url = \"https://twitter.com/search?f=images&q=\"+ urllib.parse.quote(keyword) +\"&src=typd\"\n",
        "print(url)"
      ],
      "execution_count": 0,
      "outputs": [
        {
          "output_type": "stream",
          "text": [
            "https://twitter.com/search?f=images&q=%E7%84%BC%E8%82%89%E3%80%80%E8%82%89&src=typd\n"
          ],
          "name": "stdout"
        }
      ]
    },
    {
      "cell_type": "code",
      "metadata": {
        "id": "4L5YVmTgiEXp",
        "colab_type": "code",
        "colab": {}
      },
      "source": [
        "# 画像の保存処理\n",
        "\n",
        "import io\n",
        "import urllib.request\n",
        "from PIL import Image\n",
        "\n",
        "from urllib.parse import urlparse\n",
        "\n",
        "# 画像を保存する\n",
        "# url: 保存する画像のURL\n",
        "# filename: 保存したときのファイル名\n",
        "def imageSave(url, filename):\n",
        "  \n",
        "  #画像を読み込み\n",
        "  f = io.BytesIO(urllib.request.urlopen(url).read())\n",
        "  img = Image.open(f)\n",
        "\n",
        "  # 画像の保存\n",
        "  img = img.convert(\"RGB\")\n",
        "  drive_root_dir='/content/drive/My Drive/scraping_image/'\n",
        "  img.save( drive_root_dir + filename + \".jpg\", 'JPEG')"
      ],
      "execution_count": 0,
      "outputs": []
    },
    {
      "cell_type": "code",
      "metadata": {
        "id": "l1Jf-xX8Jkuz",
        "colab_type": "code",
        "colab": {}
      },
      "source": [
        "# クロール\n",
        "from selenium import webdriver\n",
        "from selenium.webdriver.chrome.options import Options\n",
        "from bs4 import BeautifulSoup\n",
        "\n",
        "import time\n",
        "\n",
        "options = webdriver.ChromeOptions()\n",
        "options.add_argument('--headless')\n",
        "options.add_argument('--no-sandbox')\n",
        "options.add_argument('--disable-dev-shm-usage')\n",
        "\n",
        "options.add_argument('--lang=ja')\n",
        "options.add_argument('--user-agent=Mozilla/5.0 (Macintosh; Intel Mac OS X 10_11_6) AppleWebKit/537.36 (KHTML, like Gecko) Chrome/53.0.2785.116 Safari/537.36')\n",
        "\n",
        "driver = webdriver.Chrome('chromedriver',options=options)\n",
        "\n",
        "time.sleep(5)\n",
        "\n",
        "driver.set_script_timeout(30)\n",
        "driver.get(url)\n",
        "html = driver.page_source.encode('utf-8')"
      ],
      "execution_count": 0,
      "outputs": []
    },
    {
      "cell_type": "code",
      "metadata": {
        "id": "QxSX3R32K-23",
        "colab_type": "code",
        "colab": {}
      },
      "source": [
        "# スクレイピング\n",
        "soup = BeautifulSoup(html, \"html.parser\")\n",
        "\n",
        "# imgタグ取得\n",
        "images = soup.find_all('img')\n",
        "\n",
        "loop = 0\n",
        "for img in images:\n",
        "  print( str(loop) + \"/\" + str(len(images)) )\n",
        "  loop = loop + 1\n",
        "  if 'src' in img.attrs:\n",
        "    imageSave(img.attrs['src'], str(loop) )\n",
        "  elif 'data-src' in img.attrs:\n",
        "    imageSave(img.attrs['data-src'], str(loop) )"
      ],
      "execution_count": 0,
      "outputs": []
    }
  ]
}